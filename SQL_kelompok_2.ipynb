{
  "nbformat": 4,
  "nbformat_minor": 0,
  "metadata": {
    "colab": {
      "provenance": [],
      "collapsed_sections": []
    },
    "kernelspec": {
      "name": "python3",
      "display_name": "Python 3"
    },
    "language_info": {
      "name": "python"
    }
  },
  "cells": [
    {
      "cell_type": "markdown",
      "source": [
        "# **Data Peserta Binar Academy**\n",
        "\n",
        "Hai binarians, kali ini kita akan kerja kelompok lagi. Kali ini Binar Academy perlu melakukan koleksi data mengenai data peserta. Teman-teman sebagai Data Scientist diminta untuk memanipulasi database menggunakan sqlite3.\n",
        "\n",
        "**Perintah Pengerjaan :**\n",
        "\n",
        "1. Buatlah database dari informasi anggota kelompok masing-masing menggunakan python, pandas dan sqlite3\n",
        "2. Buat tabel bernama \"data_kelas\" dengan kolom : nama, email dan kelas\n",
        "3. Buat tabel bernama \"data_peserta\" dengan kolom : nama, no_telp, ukuran_baju\n",
        "4. Kolom kelas berisi kode : DSC, BIA, UI/UX, QA, atau PM\n",
        "5. Kolom ukuran baju berisi : XS, S, M, L, atau XL\n",
        "6. Masukkan informasi Facilitator yaitu \n",
        "- tabel data_kelas dan kolom secara berurutan : \"Arjun Prayoga Aji, paji@binaracademy.org, DSC\"\n",
        "- tabel data_peserta dan kolom secara berurutan : \"Arjun Prayoga Aji, 081390379213, L\"\n",
        "7. Kumpulkan dalam bentuk \"nama_kelompok.db\"\n",
        "8. Update data email Facilitator menjadi \"prayoga.aji.arjun@gmail.com\"\n",
        "9. Kumpulkan dalam bentuk \"nama_kelompok_revised.db\"\n",
        "9. Hapus data Facilitator\n",
        "10. Kumpulkan dalam bentuk \"nama_kelompok_revised_fix.db\"\n",
        "11. Push pekerjaan teman-teman ke github masing-masing\n",
        "12. Push pekerjaan kelompok pada pekan lalu ke github masing-masing"
      ],
      "metadata": {
        "id": "-9zthgVqb93l"
      }
    },
    {
      "cell_type": "code",
      "source": [
        "import sqlite3\n",
        "\n",
        "#db = sqlite3.connect('challenge.db', check_same_thread=False)\n",
        "conn = sqlite3.connect('kelompok_2.db')\n",
        "\n",
        "print(\"Success!\")\n"
      ],
      "metadata": {
        "colab": {
          "base_uri": "https://localhost:8080/"
        },
        "id": "wVPgYpGn70Ku",
        "outputId": "da7a6448-4fc2-49cf-a5ea-a5756f5ce1d5"
      },
      "execution_count": 14,
      "outputs": [
        {
          "output_type": "stream",
          "name": "stdout",
          "text": [
            "Success!\n"
          ]
        }
      ]
    },
    {
      "cell_type": "code",
      "source": [
        "cursor = conn.cursor()\n",
        "\n",
        "conn.execute('''CREATE TABLE data_kelas (nama varchar(255), email varchar(255), kelas varchar(255));''')\n",
        "conn.commit()\n",
        "\n",
        "print(\"Tabel data_kelas sudah dibuat\")"
      ],
      "metadata": {
        "colab": {
          "base_uri": "https://localhost:8080/"
        },
        "id": "x-mcYHWx8bjg",
        "outputId": "a3218ebe-1142-4de7-a64e-291a6e76d5bd"
      },
      "execution_count": 15,
      "outputs": [
        {
          "output_type": "stream",
          "name": "stdout",
          "text": [
            "Tabel data_kelas sudah dibuat\n"
          ]
        }
      ]
    },
    {
      "cell_type": "code",
      "source": [
        "conn.execute('''CREATE TABLE data_peserta (nama varchar(255), no_telpon varchar(255), ukuran_baju varchar(255));''')\n",
        "conn.commit()\n",
        "\n",
        "print(\"Tabel data_peserta sudah dibuat\")"
      ],
      "metadata": {
        "colab": {
          "base_uri": "https://localhost:8080/"
        },
        "id": "XTp8FAPb9djv",
        "outputId": "26410b57-8f83-4fe9-fb74-acc1d415dc88"
      },
      "execution_count": 16,
      "outputs": [
        {
          "output_type": "stream",
          "name": "stdout",
          "text": [
            "Tabel data_peserta sudah dibuat\n"
          ]
        }
      ]
    },
    {
      "cell_type": "code",
      "source": [
        "#Insert Data tabel data_kelas\n",
        "\n",
        "conn.execute(\"INSERT INTO data_kelas VALUES ('Arjun Prayoga Aji', 'paji@binaracademy.org', 'DSC')\")\n",
        "conn.execute(\"INSERT INTO data_kelas VALUES ('Muhammad Abid', 'muhammmadabidd@gmail.com', 'DSC')\")\n",
        "conn.execute(\"INSERT INTO data_kelas VALUES ('Boby Zebua', 'b6000lz@gmail.com', 'DSC')\")\n",
        "conn.execute(\"INSERT INTO data_kelas VALUES ('Muhammad Ramadhani Jatmika' , 'ramadhanijatmika99@gmail.com' , 'DSC')\")\n",
        "conn.execute(\"INSERT INTO data_kelas VALUES ('Harya Kumuda Koostanto', 'haryak01@gmail.com','DSC')\")\n",
        "conn.execute(\"INSERT INTO data_kelas VALUES ('Muhammad Aldan' , 'muhammadaldan@gmail.com' , 'DSC')\")\n",
        "conn.execute(\"INSERT INTO data_kelas VALUES ('Kevin alfindi' , 'alfindikevin@gmail.com' , 'DSC')\")\n",
        "conn.execute(\"INSERT INTO data_kelas VALUES ('Yusa Rizal Septio Amrullah' , 'yusarizal25@gmail.com' , 'DSC')\")\n",
        "conn.execute(\"INSERT INTO data_kelas VALUES ('Ayyub Setiyoso' , 'ayyubste@gmail.com' , 'DSC')\")\n",
        "\n",
        "conn.commit()"
      ],
      "metadata": {
        "id": "Kv7tfhTn-PCS"
      },
      "execution_count": 17,
      "outputs": []
    },
    {
      "cell_type": "code",
      "source": [
        "#Insert Data tabel data_peserta\n",
        "\n",
        "conn.execute(\"INSERT INTO data_peserta VALUES ('Arjun Prayoga Aji', '081390379213', 'L')\")\n",
        "conn.execute(\"INSERT INTO data_peserta VALUES ('Muhammad Abid', '081273568772', 'XL')\")\n",
        "conn.execute(\"INSERT INTO data_peserta VALUES ('Boby Zebua', '082112591995', 'M')\")\n",
        "conn.execute(\"INSERT INTO data_peserta VALUES ('Muhammad Ramadhani Jatmika' , '081228645346' , 'L')\")\n",
        "conn.execute(\"INSERT INTO data_peserta VALUES ('Harya Kumuda Koostanto', '081322669515','L')\")\n",
        "conn.execute(\"INSERT INTO data_peserta VALUES ('Muhammad Aldan' , '087885821445' , 'L')\")\n",
        "conn.execute(\"INSERT INTO data_peserta VALUES ('Kevin alfindi' , '085717882787' , 'M')\")\n",
        "conn.execute(\"INSERT INTO data_peserta VALUES ('Yusa Rizal Septio Amrullah' , '082220273690' , 'M')\")\n",
        "conn.execute(\"INSERT INTO data_peserta VALUES ('Ayyub Setiyoso' , '081334561131' , 'XL')\")\n",
        "\n",
        "conn.commit()"
      ],
      "metadata": {
        "id": "OTDeiWegAEeU"
      },
      "execution_count": 18,
      "outputs": []
    },
    {
      "cell_type": "code",
      "source": [
        "cursor = conn.execute(\"SELECT * FROM data_kelas;\")\n",
        "for row in cursor:\n",
        "  print(row)\n"
      ],
      "metadata": {
        "colab": {
          "base_uri": "https://localhost:8080/"
        },
        "id": "e98EU9DZCTFV",
        "outputId": "fbf9629a-f0e4-42ee-eba9-b3221c07b8e6"
      },
      "execution_count": 19,
      "outputs": [
        {
          "output_type": "stream",
          "name": "stdout",
          "text": [
            "('Arjun Prayoga Aji', 'paji@binaracademy.org', 'DSC')\n",
            "('Muhammad Abid', 'muhammmadabidd@gmail.com', 'DSC')\n",
            "('Boby Zebua', 'b6000lz@gmail.com', 'DSC')\n",
            "('Muhammad Ramadhani Jatmika', 'ramadhanijatmika99@gmail.com', 'DSC')\n",
            "('Harya Kumuda Koostanto', 'haryak01@gmail.com', 'DSC')\n",
            "('Muhammad Aldan', 'muhammadaldan@gmail.com', 'DSC')\n",
            "('Kevin alfindi', 'alfindikevin@gmail.com', 'DSC')\n",
            "('Yusa Rizal Septio Amrullah', 'yusarizal25@gmail.com', 'DSC')\n",
            "('Ayyub Setiyoso', 'ayyubste@gmail.com', 'DSC')\n"
          ]
        }
      ]
    },
    {
      "cell_type": "code",
      "source": [
        "cursor = conn.execute(\"SELECT * FROM data_peserta;\")\n",
        "for row in cursor:\n",
        "  print(row)"
      ],
      "metadata": {
        "colab": {
          "base_uri": "https://localhost:8080/"
        },
        "id": "nN_Y72RrDE5d",
        "outputId": "074082d8-cbfc-4360-a04a-be4fa1c8ed51"
      },
      "execution_count": 20,
      "outputs": [
        {
          "output_type": "stream",
          "name": "stdout",
          "text": [
            "('Arjun Prayoga Aji', '081390379213', 'L')\n",
            "('Muhammad Abid', '081273568772', 'XL')\n",
            "('Boby Zebua', '082112591995', 'M')\n",
            "('Muhammad Ramadhani Jatmika', '081228645346', 'L')\n",
            "('Harya Kumuda Koostanto', '081322669515', 'L')\n",
            "('Muhammad Aldan', '087885821445', 'L')\n",
            "('Kevin alfindi', '085717882787', 'M')\n",
            "('Yusa Rizal Septio Amrullah', '082220273690', 'M')\n",
            "('Ayyub Setiyoso', '081334561131', 'XL')\n"
          ]
        }
      ]
    },
    {
      "cell_type": "code",
      "source": [
        "#Update data Fasilitator\n",
        "\n",
        "conn.execute(\"UPDATE data_kelas set email = 'prayoga.aji.arjun@gmail.com' where nama = 'Arjun Prayoga Aji';\")\n",
        "conn.commit()"
      ],
      "metadata": {
        "id": "tc2sfBQEDoOa"
      },
      "execution_count": 22,
      "outputs": []
    },
    {
      "cell_type": "code",
      "source": [
        "cursor = conn.execute(\"SELECT * FROM data_kelas;\")\n",
        "for row in cursor:\n",
        "  print(row)\n"
      ],
      "metadata": {
        "colab": {
          "base_uri": "https://localhost:8080/"
        },
        "id": "nDlJehYbEdFt",
        "outputId": "d6be876b-3ecb-4970-c671-f045d0a9fcf3"
      },
      "execution_count": 23,
      "outputs": [
        {
          "output_type": "stream",
          "name": "stdout",
          "text": [
            "('Arjun Prayoga Aji', 'prayoga.aji.arjun@gmail.com', 'DSC')\n",
            "('Muhammad Abid', 'muhammmadabidd@gmail.com', 'DSC')\n",
            "('Boby Zebua', 'b6000lz@gmail.com', 'DSC')\n",
            "('Muhammad Ramadhani Jatmika', 'ramadhanijatmika99@gmail.com', 'DSC')\n",
            "('Harya Kumuda Koostanto', 'haryak01@gmail.com', 'DSC')\n",
            "('Muhammad Aldan', 'muhammadaldan@gmail.com', 'DSC')\n",
            "('Kevin alfindi', 'alfindikevin@gmail.com', 'DSC')\n",
            "('Yusa Rizal Septio Amrullah', 'yusarizal25@gmail.com', 'DSC')\n",
            "('Ayyub Setiyoso', 'ayyubste@gmail.com', 'DSC')\n"
          ]
        }
      ]
    },
    {
      "cell_type": "code",
      "source": [
        "#Menghapus data fasilitator\n",
        "\n",
        "conn.execute(\"DELETE FROM data_kelas where nama = 'Arjun Prayoga Aji';\")\n",
        "conn.execute(\"DELETE FROM data_peserta where nama = 'Arjun Prayoga Aji';\")\n",
        "conn.commit()"
      ],
      "metadata": {
        "id": "HShycLoCEkmv"
      },
      "execution_count": 24,
      "outputs": []
    },
    {
      "cell_type": "code",
      "source": [
        "cursor = conn.execute(\"SELECT * FROM data_kelas;\")\n",
        "for row in cursor:\n",
        "  print(row)"
      ],
      "metadata": {
        "colab": {
          "base_uri": "https://localhost:8080/"
        },
        "id": "cCM0tdN3FPCv",
        "outputId": "231a3f83-c6e3-47c6-deff-03ea56c3d1c5"
      },
      "execution_count": 25,
      "outputs": [
        {
          "output_type": "stream",
          "name": "stdout",
          "text": [
            "('Muhammad Abid', 'muhammmadabidd@gmail.com', 'DSC')\n",
            "('Boby Zebua', 'b6000lz@gmail.com', 'DSC')\n",
            "('Muhammad Ramadhani Jatmika', 'ramadhanijatmika99@gmail.com', 'DSC')\n",
            "('Harya Kumuda Koostanto', 'haryak01@gmail.com', 'DSC')\n",
            "('Muhammad Aldan', 'muhammadaldan@gmail.com', 'DSC')\n",
            "('Kevin alfindi', 'alfindikevin@gmail.com', 'DSC')\n",
            "('Yusa Rizal Septio Amrullah', 'yusarizal25@gmail.com', 'DSC')\n",
            "('Ayyub Setiyoso', 'ayyubste@gmail.com', 'DSC')\n"
          ]
        }
      ]
    },
    {
      "cell_type": "code",
      "source": [
        "cursor = conn.execute(\"SELECT * FROM data_peserta;\")\n",
        "for row in cursor:\n",
        "  print(row)"
      ],
      "metadata": {
        "colab": {
          "base_uri": "https://localhost:8080/"
        },
        "id": "mm8aDslRFRmo",
        "outputId": "d989e9df-28a8-4717-cab2-6c425ddbf3ad"
      },
      "execution_count": 26,
      "outputs": [
        {
          "output_type": "stream",
          "name": "stdout",
          "text": [
            "('Muhammad Abid', '081273568772', 'XL')\n",
            "('Boby Zebua', '082112591995', 'M')\n",
            "('Muhammad Ramadhani Jatmika', '081228645346', 'L')\n",
            "('Harya Kumuda Koostanto', '081322669515', 'L')\n",
            "('Muhammad Aldan', '087885821445', 'L')\n",
            "('Kevin alfindi', '085717882787', 'M')\n",
            "('Yusa Rizal Septio Amrullah', '082220273690', 'M')\n",
            "('Ayyub Setiyoso', '081334561131', 'XL')\n"
          ]
        }
      ]
    },
    {
      "cell_type": "code",
      "source": [],
      "metadata": {
        "id": "TXv5P9VFFTzo"
      },
      "execution_count": null,
      "outputs": []
    }
  ]
}